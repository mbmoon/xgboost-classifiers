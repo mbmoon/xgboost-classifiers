{
 "cells": [
  {
   "cell_type": "markdown",
   "id": "3739931a-9e52-4a73-9d87-acdaaf2df8fc",
   "metadata": {},
   "source": [
    "#### RGB vs BGR\n",
    "\n",
    "Зрозуміти порядок каналів для BMP-зображення можна шляхом маніпуляції пікселів і обнулення певних каналів. У BMP форматі кольорові канали найчастіше представлені у порядку BGR (синій, зелений, червоний), а не RGB. Тобто, перший канал відповідає за синій, другий — за зелений, а третій — за червоний. Тому при обробці таких зображень та розрахунку метрик, особливо після перетворення з одного формату в інший важливо враховувати що позиція каналу може відрізнятись між вхідними зображеннями та вихідними."
   ]
  },
  {
   "cell_type": "code",
   "execution_count": 1,
   "id": "eef63b74-5680-4acb-9840-7f5b08de03f4",
   "metadata": {},
   "outputs": [],
   "source": [
    "from PIL import Image\n",
    "import numpy as np"
   ]
  },
  {
   "cell_type": "code",
   "execution_count": 6,
   "id": "95d33f72-0673-48c4-a86b-44999ebe44cb",
   "metadata": {},
   "outputs": [],
   "source": [
    "def zero_channels(image_path, output_path, keep_channel):\n",
    "    \"\"\"\n",
    "    Замінює два з трьох кольорових каналів RGB(PNG)-зображення на 0.\n",
    "    \n",
    "    :param image_path: Шлях до вихідного зображення.\n",
    "    :param output_path: Шлях для збереження модифікованого зображення.\n",
    "    :param keep_channel: Канал, який потрібно зберегти (0 - Червоний, 1 - Зелений, 2 - Синій).\n",
    "    \"\"\"\n",
    "    # Відкриття зображення\n",
    "    image = Image.open(image_path).convert(\"RGBA\")  # Примусово конвертуємо зображення в RGBA (4 канали)\n",
    "    \n",
    "    # Перетворення зображення в дані у форматі NumPy\n",
    "    image_data = np.array(image)\n",
    "    \n",
    "    # Виділяємо RGB-канали, ігноруючи альфа-канал (якщо він є)\n",
    "    rgb_data = image_data[:, :, :3]\n",
    "    alpha_channel = image_data[:, :, 3] if image_data.shape[2] == 4 else None\n",
    "\n",
    "    # Створюємо масив для зберігання результату\n",
    "    modified_data = np.zeros_like(rgb_data)\n",
    "    \n",
    "    # Залишаємо тільки обраний канал\n",
    "    modified_data[:, :, keep_channel] = rgb_data[:, :, keep_channel]\n",
    "    \n",
    "    # Якщо є альфа-канал, додаємо його назад\n",
    "    if alpha_channel is not None:\n",
    "        # Додаємо альфа-канал назад до модифікованих даних\n",
    "        modified_data_with_alpha = np.zeros_like(image_data)\n",
    "        modified_data_with_alpha[:, :, :3] = modified_data\n",
    "        modified_data_with_alpha[:, :, 3] = alpha_channel\n",
    "        modified_image = Image.fromarray(modified_data_with_alpha, \"RGBA\")\n",
    "    else:\n",
    "        # Якщо альфа-каналу немає, робимо тільки RGB\n",
    "        modified_image = Image.fromarray(modified_data, \"RGB\")\n",
    "    \n",
    "    # Збереження модифікованого зображення\n",
    "    modified_image.save(output_path)\n",
    "    print(f\"Модифіковане зображення збережено за адресою: {output_path}\")"
   ]
  },
  {
   "cell_type": "code",
   "execution_count": 20,
   "id": "a28984b0-bbe1-43aa-93d3-13b2107a2f5a",
   "metadata": {},
   "outputs": [],
   "source": [
    "def compare_channel_with_grayscale(bmp_image_path, grayscale_image_path, channel):\n",
    "    \"\"\"\n",
    "    Порівнює заданий канал (R/G/B) з grayscale-зображенням, отриманим із цього каналу.\n",
    "    \n",
    "    :param bmp_image_path: Шлях до BMP-зображення з одним або кількома ненульовими каналами.\n",
    "    :param grayscale_image_path: Шлях до grayscale-зображення.\n",
    "    :param channel: Канал для перевірки (0 - Red, 1 - Green, 2 - Blue).\n",
    "    :return: Опис результатів порівняння.\n",
    "    \"\"\"\n",
    "    channel_names = [\"Red\", \"Green\", \"Blue\"]  # Для виведення імен каналів\n",
    "    \n",
    "    # Відкриття обох зображень\n",
    "    bmp_image = Image.open(bmp_image_path).convert(\"RGB\")  # Переконуємося, що це RGB\n",
    "    grayscale_image = Image.open(grayscale_image_path).convert(\"L\")  # Переконуємося, що це Grayscale (L)\n",
    "    \n",
    "    # Перетворення зображень у NumPy-матриці\n",
    "    bmp_array = np.array(bmp_image)\n",
    "    grayscale_array = np.array(grayscale_image)\n",
    "    \n",
    "    # Виділяємо обраний канал із BMP-зображення\n",
    "    selected_channel = bmp_array[:, :, channel]  # 0 - R, 1 - G, 2 - B\n",
    "    \n",
    "    # Перевірка розмірів\n",
    "    if selected_channel.shape != grayscale_array.shape:\n",
    "        raise ValueError(f\"Розмірності зображень не збігаються: {selected_channel.shape} і {grayscale_array.shape}\")\n",
    "    \n",
    "    # Порівнюємо піксель за пікселем\n",
    "    difference = selected_channel.astype(int) - grayscale_array.astype(int)\n",
    "    max_diff = np.max(np.abs(difference))  # Максимальна різниця\n",
    "    mean_diff = np.mean(np.abs(difference))  # Середня різниця\n",
    "    \n",
    "    # Результати порівняння\n",
    "    if np.array_equal(selected_channel, grayscale_array):\n",
    "        print(f\"{channel_names[channel]} канал і grayscale-зображення є ідентичними.\")\n",
    "    else:\n",
    "        print(f\"{channel_names[channel]} канал і grayscale-зображення не ідентичні.\")\n",
    "        print(f\"Максимальна різниця: {max_diff}\")\n",
    "        print(f\"Середня різниця: {mean_diff}\")\n",
    "        print(f\"Кількість пікселів із розбіжностями: {np.sum(difference != 0)}\")\n",
    "        coords = np.argwhere(difference != 0)  # Координати пікселів із розбіжностями\n",
    "        print(f\"Приклад координат із розбіжностями: {coords[:10]} (показано до 10)\")\n"
   ]
  },
  {
   "cell_type": "code",
   "execution_count": 23,
   "id": "e5f923b3-d53e-4d2b-9104-717dcd7f8864",
   "metadata": {},
   "outputs": [
    {
     "name": "stdout",
     "output_type": "stream",
     "text": [
      "Модифіковане зображення збережено за адресою: validate_channels/reconstracted_color/red_channel.bmp\n",
      "Модифіковане зображення збережено за адресою: validate_channels/reconstracted_color/green_channel.bmp\n",
      "Модифіковане зображення збережено за адресою: validate_channels/reconstracted_color/blue_channel.bmp\n"
     ]
    }
   ],
   "source": [
    "# Використання функції\n",
    "image_path = \"validate_channels/reconstructed_q1_sigma_25_img_1.png\"  # Шлях до вашого BMP зображення\n",
    "output_path_red = \"validate_channels/reconstracted_color/red_channel.bmp\"  # Зберегти тільки червоний канал\n",
    "output_path_green = \"validate_channels/reconstracted_color/green_channel.bmp\"  # Зберегти тільки зелений канал\n",
    "output_path_blue = \"validate_channels/reconstracted_color/blue_channel.bmp\"  # Зберегти тільки синій канал\n",
    "\n",
    "# Виклик функції для кожного каналу\n",
    "zero_channels(image_path, output_path_red, keep_channel=0)  # Тільки червоний канал\n",
    "zero_channels(image_path, output_path_green, keep_channel=1)  # Тільки зелений канал\n",
    "zero_channels(image_path, output_path_blue, keep_channel=2)  # Тільки синій канал"
   ]
  },
  {
   "cell_type": "code",
   "execution_count": 9,
   "id": "554f93a6-9124-4ed6-ba03-d3abb741ff55",
   "metadata": {},
   "outputs": [
    {
     "name": "stdout",
     "output_type": "stream",
     "text": [
      "Модифіковане зображення збережено за адресою: validate_channels/red_channel.png\n",
      "Модифіковане зображення збережено за адресою: validate_channels/green_channel.png\n",
      "Модифіковане зображення збережено за адресою: validate_channels/blue_channel.png\n"
     ]
    }
   ],
   "source": [
    "# Використання функції\n",
    "image_path = \"validate_channels/SS1.png\"  # Шлях до вашого BMP зображення\n",
    "output_path_red = \"validate_channels/red_channel.png\"  # Зберегти тільки червоний канал\n",
    "output_path_green = \"validate_channels/green_channel.png\"  # Зберегти тільки зелений канал\n",
    "output_path_blue = \"validate_channels/blue_channel.png\"  # Зберегти тільки синій канал\n",
    "\n",
    "# Виклик функції для кожного каналу\n",
    "zero_channels(image_path, output_path_red, keep_channel=0)  # Тільки червоний канал\n",
    "zero_channels(image_path, output_path_green, keep_channel=1)  # Тільки зелений канал\n",
    "zero_channels(image_path, output_path_blue, keep_channel=2)  # Тільки синій канал"
   ]
  },
  {
   "cell_type": "code",
   "execution_count": 22,
   "id": "64507bd2-5524-4ea1-8fc7-f5f7fe0f5743",
   "metadata": {},
   "outputs": [
    {
     "name": "stdout",
     "output_type": "stream",
     "text": [
      "Red канал і grayscale-зображення є ідентичними.\n",
      "Green канал і grayscale-зображення є ідентичними.\n",
      "Blue канал і grayscale-зображення є ідентичними.\n"
     ]
    }
   ],
   "source": [
    "bmp_image_path = \"validate_channels/red_channel.png\"\n",
    "grayscale_image_path_r = \"validate_channels/convert_red_channel.png\"  # Файл із командою `-channel R -separate`\n",
    "compare_channel_with_grayscale(bmp_image_path, grayscale_image_path_r, channel=0)  # 0 - R\n",
    "\n",
    "bmp_image_path = \"validate_channels/green_channel.png\"\n",
    "grayscale_image_path_g = \"validate_channels/convert_green_channel.png\"  # Файл із командою `-channel G -separate`\n",
    "compare_channel_with_grayscale(bmp_image_path, grayscale_image_path_g, channel=1)  # 1 - G\n",
    "\n",
    "bmp_image_path = \"validate_channels/blue_channel.png\"\n",
    "grayscale_image_path_b = \"validate_channels/convert_blue_channel.png\"  # Файл із командою `-channel B -separate`\n",
    "compare_channel_with_grayscale(bmp_image_path, grayscale_image_path_b, channel=2)  # 2 - B"
   ]
  },
  {
   "cell_type": "code",
   "execution_count": null,
   "id": "04053130-2a3d-4a43-9a58-9c1bc9d39bba",
   "metadata": {},
   "outputs": [],
   "source": []
  },
  {
   "cell_type": "code",
   "execution_count": null,
   "id": "957b8467-fc49-4127-a135-b8f81613d7fb",
   "metadata": {},
   "outputs": [],
   "source": []
  }
 ],
 "metadata": {
  "kernelspec": {
   "display_name": "Python 3 (ipykernel)",
   "language": "python",
   "name": "python3"
  },
  "language_info": {
   "codemirror_mode": {
    "name": "ipython",
    "version": 3
   },
   "file_extension": ".py",
   "mimetype": "text/x-python",
   "name": "python",
   "nbconvert_exporter": "python",
   "pygments_lexer": "ipython3",
   "version": "3.9.6"
  }
 },
 "nbformat": 4,
 "nbformat_minor": 5
}
